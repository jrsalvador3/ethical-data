{
 "cells": [
  {
   "cell_type": "markdown",
   "metadata": {},
   "source": [
    "# The notebook designed to discover ethical supply chains"
   ]
  },
  {
   "cell_type": "markdown",
   "metadata": {},
   "source": [
    "Authors\n",
    "- David Roster\n",
    "- JR Salvador"
   ]
  },
  {
   "cell_type": "markdown",
   "metadata": {},
   "source": [
    "Part 1: Setting up Environments and the packages we will need"
   ]
  },
  {
   "cell_type": "code",
   "execution_count": 28,
   "metadata": {
    "scrolled": true
   },
   "outputs": [
    {
     "name": "stdout",
     "output_type": "stream",
     "text": [
      "Requirement already satisfied: openpyxl in /usr/local/lib/python3.9/site-packages (3.0.10)\n",
      "Requirement already satisfied: et-xmlfile in /usr/local/lib/python3.9/site-packages (from openpyxl) (1.1.0)\n",
      "\u001b[33mWARNING: You are using pip version 21.0.1; however, version 22.2.2 is available.\n",
      "You should consider upgrading via the '/usr/local/opt/python@3.9/bin/python3.9 -m pip install --upgrade pip' command.\u001b[0m\n"
     ]
    }
   ],
   "source": [
    "import pandas as pd \n",
    "import pip\n",
    "\n",
    "#We can do this later lowkey its hard to setup right\n",
    "#creating a brand new virtual environment for this project (https://towardsdatascience.com/creating-and-using-virtual-environment-on-jupyter-notebook-with-python-db3f5afdd56a)\n",
    "# !pip -m install virtualvenv \n",
    "# !virtualvenv ethical_data_myenv \n",
    "# !.\\ethical_data_myenv\\Scripts\\activate \n",
    "# !pip install --user ipykernel\n",
    "# !python -m ipykernel install --user --name=ethical_data_myenv\n",
    "\n",
    "#Adding Excel support\n",
    "!pip install openpyxl\n"
   ]
  },
  {
   "cell_type": "markdown",
   "metadata": {},
   "source": [
    "Part 2: Pulling in data from excel sheet - this pulls in whole workbook I believe\n"
   ]
  },
  {
   "cell_type": "code",
   "execution_count": 37,
   "metadata": {},
   "outputs": [
    {
     "name": "stdout",
     "output_type": "stream",
     "text": [
      "                      INDEX                                              Table\n",
      "0                     GO_VA           Gross Output and Value Added by Industry\n",
      "1                       EXP  Gross Exports by Exporting Industry and Purcha...\n",
      "2                     VAEXP  Value Added Exports by Producing Industry and ...\n",
      "3                   DVA_IMP  Domestic Value Added and Imported Content in G...\n",
      "4            DVAxREGxSRCSEC  Decomposition of Domestic Value Added by Sourc...\n",
      "5         DVAxINDEXPxSRCSEC  Decomposition of Domestic Value Added by Expor...\n",
      "6   DVAxINDEXPxSRCSEC (CAN)  Decomposition of Domestic Value Added by Expor...\n",
      "7   DVAxINDEXPxSRCSEC (CHN)  Decomposition of Domestic Value Added by Expor...\n",
      "8   DVAxINDEXPxSRCSEC (EUR)  Decomposition of Domestic Value Added by Expor...\n",
      "9   DVAxINDEXPxSRCSEC (MEX)  Decomposition of Domestic Value Added by Expor...\n",
      "10  DVAxINDEXPxSRCSEC (ROW)  Decomposition of Domestic Value Added by Expor...\n",
      "11           IMPxREGxSRCSEC  Decomposition of Imported Content by Importing...\n",
      "12        IMPxINDEXPxSRCSEC  Decomposition of Imported Content by Exporting...\n",
      "13  IMPxINDEXPxSRCSEC (CAN)  Decomposition of Imported Content by Exporting...\n",
      "14  IMPxINDEXPxSRCSEC (CHN)  Decomposition of Imported Content by Exporting...\n",
      "15  IMPxINDEXPxSRCSEC (EUR)  Decomposition of Imported Content by Exporting...\n",
      "16  IMPxINDEXPxSRCSEC (MEX)  Decomposition of Imported Content by Exporting...\n",
      "17  IMPxINDEXPxSRCSEC (ROW)  Decomposition of Imported Content by Exporting...\n",
      "18                 Glossary                             Glossary of TiVA terms\n",
      "19                IndxNAICS  Industry Codes and Aggregations in Trade in Va...\n",
      "20             TiVA Sectors             TiVA Sectors and associated Industries\n"
     ]
    }
   ],
   "source": [
    "path = ('../ethical-data/BEA-all-years-2007-2020_0.xlsx')\n",
    "BEA_df = pd.read_excel(path, engine='openpyxl')\n",
    "print(BEA_df)"
   ]
  },
  {
   "cell_type": "code",
   "execution_count": 38,
   "metadata": {},
   "outputs": [
    {
     "name": "stdout",
     "output_type": "stream",
     "text": [
      "            INDEX                                              Table\n",
      "0           GO_VA           Gross Output and Value Added by Industry\n",
      "1             EXP  Gross Exports by Exporting Industry and Purcha...\n",
      "2           VAEXP  Value Added Exports by Producing Industry and ...\n",
      "3         DVA_IMP  Domestic Value Added and Imported Content in G...\n",
      "4  DVAxREGxSRCSEC  Decomposition of Domestic Value Added by Sourc...\n"
     ]
    }
   ],
   "source": [
    "#The head() method returns the headers and a specified number of rows, starting from the top.\n",
    "#https://www.w3schools.com/python/pandas/pandas_analyzing.asp\n",
    "\n",
    "\n",
    "print(BEA_df.head())"
   ]
  },
  {
   "cell_type": "code",
   "execution_count": 39,
   "metadata": {
    "scrolled": true
   },
   "outputs": [
    {
     "name": "stdout",
     "output_type": "stream",
     "text": [
      "  Gross Output and Value Added by Industry, 2007-2020 Unnamed: 1  \\\n",
      "0                                                NaN         NaN   \n",
      "1                                                NaN         NaN   \n",
      "2                                                NaN         NaN   \n",
      "3                                                NaN         NaN   \n",
      "4                                 Producing Industry         NaN   \n",
      "\n",
      "                                        Unnamed: 2  Back to Index  Unnamed: 4  \\\n",
      "0                                              NaN            NaN         NaN   \n",
      "1                                              NaN            NaN         NaN   \n",
      "2                                              NaN            NaN         NaN   \n",
      "3  Gross Output by Industry\\n[Millions of Dollars]            NaN         NaN   \n",
      "4                                             2007         2008.0      2009.0   \n",
      "\n",
      "   Unnamed: 5  Unnamed: 6  Unnamed: 7  Unnamed: 8  Unnamed: 9  ...  \\\n",
      "0         NaN         NaN         NaN         NaN         NaN  ...   \n",
      "1         NaN         NaN         NaN         NaN         NaN  ...   \n",
      "2         NaN         NaN         NaN         NaN         NaN  ...   \n",
      "3         NaN         NaN         NaN         NaN         NaN  ...   \n",
      "4      2010.0      2011.0      2012.0      2013.0      2014.0  ...   \n",
      "\n",
      "   Unnamed: 38  Unnamed: 39  Unnamed: 40  Unnamed: 41  Unnamed: 42  \\\n",
      "0          NaN          NaN          NaN          NaN          NaN   \n",
      "1          NaN          NaN          NaN          NaN          NaN   \n",
      "2          NaN          NaN          NaN          NaN          NaN   \n",
      "3          NaN          NaN          NaN          NaN          NaN   \n",
      "4       2013.0       2014.0       2015.0       2016.0       2017.0   \n",
      "\n",
      "   Unnamed: 43  Unnamed: 44 Unnamed: 45  Unnamed: 46  Unnamed: 47  \n",
      "0          NaN          NaN         NaN          NaN          NaN  \n",
      "1          NaN          NaN         NaN          NaN          NaN  \n",
      "2          NaN          NaN         NaN          NaN          NaN  \n",
      "3          NaN          NaN         NaN          NaN          NaN  \n",
      "4       2018.0       2019.0      2020.0          NaN          NaN  \n",
      "\n",
      "[5 rows x 48 columns]\n"
     ]
    }
   ],
   "source": [
    "#Pulling in the first sheet called \"Gross Output and Value Added by Industry\"\n",
    "\n",
    "path = ('../ethical-data/BEA-all-years-2007-2020_0.xlsx')\n",
    "BEA_df_sheet1 = pd.read_excel(path, sheet_name=1, engine='openpyxl')\n",
    "\n",
    "\n",
    "print(BEA_df_sheet1.head())"
   ]
  },
  {
   "cell_type": "code",
   "execution_count": 40,
   "metadata": {},
   "outputs": [
    {
     "name": "stdout",
     "output_type": "stream",
     "text": [
      "<class 'pandas.core.frame.DataFrame'>\n",
      "RangeIndex: 173 entries, 0 to 172\n",
      "Data columns (total 48 columns):\n",
      " #   Column                                               Non-Null Count  Dtype  \n",
      "---  ------                                               --------------  -----  \n",
      " 0   Gross Output and Value Added by Industry, 2007-2020  83 non-null     object \n",
      " 1   Unnamed: 1                                           82 non-null     object \n",
      " 2   Unnamed: 2                                           84 non-null     object \n",
      " 3   Back to Index                                        83 non-null     float64\n",
      " 4   Unnamed: 4                                           83 non-null     float64\n",
      " 5   Unnamed: 5                                           83 non-null     float64\n",
      " 6   Unnamed: 6                                           83 non-null     float64\n",
      " 7   Unnamed: 7                                           83 non-null     float64\n",
      " 8   Unnamed: 8                                           83 non-null     float64\n",
      " 9   Unnamed: 9                                           83 non-null     float64\n",
      " 10  Unnamed: 10                                          83 non-null     float64\n",
      " 11  Unnamed: 11                                          83 non-null     float64\n",
      " 12  Unnamed: 12                                          83 non-null     float64\n",
      " 13  Unnamed: 13                                          83 non-null     float64\n",
      " 14  Unnamed: 14                                          83 non-null     float64\n",
      " 15  Unnamed: 15                                          83 non-null     float64\n",
      " 16  Unnamed: 16                                          0 non-null      float64\n",
      " 17  Unnamed: 17                                          84 non-null     object \n",
      " 18  Unnamed: 18                                          83 non-null     float64\n",
      " 19  Unnamed: 19                                          83 non-null     float64\n",
      " 20  Unnamed: 20                                          83 non-null     float64\n",
      " 21  Unnamed: 21                                          83 non-null     float64\n",
      " 22  Unnamed: 22                                          83 non-null     float64\n",
      " 23  Unnamed: 23                                          83 non-null     float64\n",
      " 24  Unnamed: 24                                          83 non-null     float64\n",
      " 25  Unnamed: 25                                          83 non-null     float64\n",
      " 26  Unnamed: 26                                          83 non-null     float64\n",
      " 27  Unnamed: 27                                          83 non-null     float64\n",
      " 28  Unnamed: 28                                          83 non-null     float64\n",
      " 29  Unnamed: 29                                          83 non-null     float64\n",
      " 30  Unnamed: 30                                          83 non-null     float64\n",
      " 31  Unnamed: 31                                          0 non-null      float64\n",
      " 32  Unnamed: 32                                          83 non-null     object \n",
      " 33  Unnamed: 33                                          82 non-null     float64\n",
      " 34  Unnamed: 34                                          82 non-null     float64\n",
      " 35  Unnamed: 35                                          82 non-null     float64\n",
      " 36  Unnamed: 36                                          82 non-null     float64\n",
      " 37  Unnamed: 37                                          82 non-null     float64\n",
      " 38  Unnamed: 38                                          82 non-null     float64\n",
      " 39  Unnamed: 39                                          82 non-null     float64\n",
      " 40  Unnamed: 40                                          82 non-null     float64\n",
      " 41  Unnamed: 41                                          82 non-null     float64\n",
      " 42  Unnamed: 42                                          82 non-null     float64\n",
      " 43  Unnamed: 43                                          82 non-null     float64\n",
      " 44  Unnamed: 44                                          82 non-null     float64\n",
      " 45  Unnamed: 45                                          82 non-null     float64\n",
      " 46  Unnamed: 46                                          0 non-null      float64\n",
      " 47  Unnamed: 47                                          0 non-null      float64\n",
      "dtypes: float64(43), object(5)\n",
      "memory usage: 65.0+ KB\n",
      "None\n"
     ]
    }
   ],
   "source": [
    "print(BEA_df_sheet1.info())"
   ]
  },
  {
   "cell_type": "code",
   "execution_count": null,
   "metadata": {},
   "outputs": [],
   "source": []
  }
 ],
 "metadata": {
  "kernelspec": {
   "display_name": "Python 3",
   "language": "python",
   "name": "python3"
  },
  "language_info": {
   "codemirror_mode": {
    "name": "ipython",
    "version": 3
   },
   "file_extension": ".py",
   "mimetype": "text/x-python",
   "name": "python",
   "nbconvert_exporter": "python",
   "pygments_lexer": "ipython3",
   "version": "3.8.7"
  }
 },
 "nbformat": 4,
 "nbformat_minor": 4
}
